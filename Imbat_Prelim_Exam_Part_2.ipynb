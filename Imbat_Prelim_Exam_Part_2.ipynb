{
  "nbformat": 4,
  "nbformat_minor": 0,
  "metadata": {
    "colab": {
      "provenance": [],
      "authorship_tag": "ABX9TyO2lhR6uXqXgioj9B5IFbs1",
      "include_colab_link": true
    },
    "kernelspec": {
      "name": "python3",
      "display_name": "Python 3"
    },
    "language_info": {
      "name": "python"
    }
  },
  "cells": [
    {
      "cell_type": "markdown",
      "metadata": {
        "id": "view-in-github",
        "colab_type": "text"
      },
      "source": [
        "<a href=\"https://colab.research.google.com/github/jemayne/AIDA2-Lab/blob/main/Imbat_Prelim_Exam_Part_2.ipynb\" target=\"_parent\"><img src=\"https://colab.research.google.com/assets/colab-badge.svg\" alt=\"Open In Colab\"/></a>"
      ]
    },
    {
      "cell_type": "markdown",
      "source": [
        "Imbat, Jezra Mayne A.\n",
        "\n",
        "BS Computer Engineering\n",
        "\n",
        "AIDA2 (58052)"
      ],
      "metadata": {
        "id": "wiISzk-M07M1"
      }
    },
    {
      "cell_type": "markdown",
      "source": [
        "Prelim Exam"
      ],
      "metadata": {
        "id": "6ZuTICWh4LWw"
      }
    },
    {
      "cell_type": "code",
      "source": [
        "import numpy as np"
      ],
      "metadata": {
        "id": "6PLhZqyy1NYV"
      },
      "execution_count": 2,
      "outputs": []
    },
    {
      "cell_type": "code",
      "source": [
        "A = np.array([[1, -2, -1],\n",
        "              [-0.5, 1, 0.5],\n",
        "              [1, -2, -1]])\n",
        "\n",
        "for i in range(A.shape[0]):\n",
        "  for x in range(A.shape[0]):\n",
        "    if i != x:\n",
        "      inner = np.inner(A[:, i],\n",
        "                       A[:, x])\n",
        "      \n",
        "      inorm = np.linalg.norm(A[:, i])\n",
        "      xnorm = np.linalg.norm(A[:, x])\n",
        "      if np.abs(inner - xnorm * inorm):\n",
        "        print(\"Linearly Dependent\")\n",
        "      else:\n",
        "        print(\"Linearly Independent\")"
      ],
      "metadata": {
        "id": "HkbKVoSKkvLr",
        "colab": {
          "base_uri": "https://localhost:8080/"
        },
        "outputId": "a78d9fb2-89d0-4d5b-cb57-76b42c3a5a2e"
      },
      "execution_count": 4,
      "outputs": [
        {
          "output_type": "stream",
          "name": "stdout",
          "text": [
            "Linearly Dependent\n",
            "Linearly Dependent\n",
            "Linearly Dependent\n",
            "Linearly Independent\n",
            "Linearly Dependent\n",
            "Linearly Independent\n"
          ]
        }
      ]
    },
    {
      "cell_type": "code",
      "source": [
        "A = np.array([[13, 20]])\n",
        "B = np.array([[-2, 17]])\n",
        "\n",
        "number = np.dot(A, B.T)\n",
        "anorm = np.linalg.norm(A)\n",
        "bnorm = np.linalg.norm(B)\n",
        "denum = anorm * bnorm\n",
        "angle = np.arccos(number/denum)"
      ],
      "metadata": {
        "id": "wcIArkToll15"
      },
      "execution_count": 9,
      "outputs": []
    },
    {
      "cell_type": "code",
      "source": [
        "print(angle)"
      ],
      "metadata": {
        "colab": {
          "base_uri": "https://localhost:8080/"
        },
        "id": "fhafD3I4ZfzL",
        "outputId": "f0ab8680-91bb-467f-97ef-771343ef0346"
      },
      "execution_count": 10,
      "outputs": [
        {
          "output_type": "stream",
          "name": "stdout",
          "text": [
            "[[0.69348397]]\n"
          ]
        }
      ]
    },
    {
      "cell_type": "code",
      "source": [
        "print(bnorm)"
      ],
      "metadata": {
        "colab": {
          "base_uri": "https://localhost:8080/"
        },
        "id": "KWw71tCJY6T_",
        "outputId": "3c0183ae-2a96-4322-c437-2f633d64b952"
      },
      "execution_count": 6,
      "outputs": [
        {
          "output_type": "stream",
          "name": "stdout",
          "text": [
            "17.11724276862369\n"
          ]
        }
      ]
    },
    {
      "cell_type": "code",
      "source": [
        "print(anorm)"
      ],
      "metadata": {
        "colab": {
          "base_uri": "https://localhost:8080/"
        },
        "id": "8ufOb3P7Y8Xd",
        "outputId": "c6d7aa8b-4657-4c31-fc6f-883139d60a77"
      },
      "execution_count": 7,
      "outputs": [
        {
          "output_type": "stream",
          "name": "stdout",
          "text": [
            "23.853720883753127\n"
          ]
        }
      ]
    },
    {
      "cell_type": "code",
      "source": [
        "print(number)"
      ],
      "metadata": {
        "colab": {
          "base_uri": "https://localhost:8080/"
        },
        "id": "p9cPXaZnZQci",
        "outputId": "e5f52db4-4220-4289-a4bd-7033ce00e51f"
      },
      "execution_count": 8,
      "outputs": [
        {
          "output_type": "stream",
          "name": "stdout",
          "text": [
            "[[314]]\n"
          ]
        }
      ]
    }
  ]
}